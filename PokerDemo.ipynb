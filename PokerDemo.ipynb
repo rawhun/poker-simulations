{
 "cells": [
  {
   "cell_type": "markdown",
   "id": "6ccb6cdd",
   "metadata": {},
   "source": [
    "Texas Hold'em Poker Simulation & Analysis Demo\n",
    "\n",
    "This notebook demonstrates:\n",
    "1. Running batch simulations and tournaments\n",
    "2. Visualizing equity heatmaps and stack trajectories\n",
    "3. Comparing strategies and AI learning curves\n",
    "\n",
    "All code uses the modular `poker` package and simulation engine."
   ]
  },
  {
   "cell_type": "markdown",
   "id": "34002561",
   "metadata": {},
   "source": [
    "1. Setup & Import"
   ]
  },
  {
   "cell_type": "code",
   "execution_count": null,
   "id": "a03f6bff",
   "metadata": {},
   "outputs": [],
   "source": [
    "# 1. Setup & Imports\n",
    "# If running on Colab or a fresh environment, uncomment the next line:\n",
    "# !pip install numpy pandas matplotlib treys tqdm\n",
    "\n",
    "import pandas as pd\n",
    "import matplotlib.pyplot as plt\n",
    "from poker.engine import PokerGame, Tournament\n",
    "from poker.player import Player, AIPokerPlayer\n",
    "from poker.analysis import calculate_equity"
   ]
  },
  {
   "cell_type": "markdown",
   "id": "2f56c997",
   "metadata": {},
   "source": [
    "2. Run a Batch Simulation\n",
    "\n",
    "Simulate 1000 hands with 4 players and analyze the results."
   ]
  },
  {
   "cell_type": "code",
   "execution_count": null,
   "id": "8999b2ca",
   "metadata": {},
   "outputs": [],
   "source": [
    "from simulate import run_monte_carlo\n",
    "\n",
    "results, player_stacks, player_wins, player_showdowns, player_names = run_monte_carlo(\n",
    "    num_hands=1000, players=4, starting_stack=1000, small_blind=10, big_blind=20\n",
    ")\n",
    "df = pd.DataFrame(results)\n",
    "df.head()"
   ]
  },
  {
   "cell_type": "markdown",
   "id": "bae0d38b",
   "metadata": {},
   "source": [
    "3. Visualize Stack Trajectories\n",
    "\n",
    "Plot the stack size of each player over time."
   ]
  },
  {
   "cell_type": "code",
   "execution_count": null,
   "id": "cad9a4c3",
   "metadata": {},
   "outputs": [],
   "source": [
    "for i, name in enumerate(player_names):\n",
    "    plt.plot(player_stacks[i], label=name)\n",
    "plt.title(\"Player Stack Trajectories\")\n",
    "plt.xlabel(\"Hand Number\")\n",
    "plt.ylabel(\"Stack Size\")\n",
    "plt.legend()\n",
    "plt.show()"
   ]
  },
  {
   "cell_type": "markdown",
   "id": "fbc9bf89",
   "metadata": {},
   "source": [
    "4. Equity Heatmap Example\n",
    "\n",
    "Calculate and visualize the equity of AKs vs. all pairs (22–AA)."
   ]
  },
  {
   "cell_type": "code",
   "execution_count": null,
   "id": "09e7f82b",
   "metadata": {},
   "outputs": [],
   "source": [
    "import numpy as np\n",
    "\n",
    "pairs = [f'{r}{r}' for r in '23456789TJQKA']\n",
    "equities = [calculate_equity('AKs', pair, iterations=500) for pair in pairs]\n",
    "\n",
    "plt.figure(figsize=(10, 4))\n",
    "plt.bar(pairs, equities)\n",
    "plt.title('Equity of AKs vs. Pocket Pairs')\n",
    "plt.xlabel('Opponent Pair')\n",
    "plt.ylabel('Equity')\n",
    "plt.show()"
   ]
  },
  {
   "cell_type": "markdown",
   "id": "abe6bc65",
   "metadata": {},
   "source": [
    "5. Compare AI Learning Curves\n",
    "\n",
    "Track the aggression parameter of each AI over 1000 hands."
   ]
  },
  {
   "cell_type": "code",
   "execution_count": null,
   "id": "5c188928",
   "metadata": {},
   "outputs": [],
   "source": [
    "# Run a simulation and track AI aggression\n",
    "aggressions = [[] for _ in range(4)]\n",
    "players = [AIPokerPlayer(f'AI {i+1}', stack=1000) for i in range(4)]\n",
    "for _ in range(1000):\n",
    "    game = PokerGame(players, small_blind=10, big_blind=20)\n",
    "    game.play_hand()\n",
    "    for i, p in enumerate(players):\n",
    "        aggressions[i].append(p.aggression)\n",
    "\n",
    "for i, aggr in enumerate(aggressions):\n",
    "    plt.plot(aggr, label=f'AI {i+1}')\n",
    "plt.title('AI Aggression Over Time')\n",
    "plt.xlabel('Hand Number')\n",
    "plt.ylabel('Aggression')\n",
    "plt.legend()\n",
    "plt.show()"
   ]
  },
  {
   "cell_type": "markdown",
   "id": "dc677416",
   "metadata": {},
   "source": [
    "6. Tournament Simulation\n",
    "\n",
    "Run a tournament and display the winner and number of hands played."
   ]
  },
  {
   "cell_type": "code",
   "execution_count": null,
   "id": "c8311ec8",
   "metadata": {},
   "outputs": [],
   "source": [
    "blind_schedule = [(10, 20), (20, 40), (40, 80), (80, 160)]\n",
    "tournament = Tournament(players=6, starting_stack=1000, blind_schedule=blind_schedule)\n",
    "winner = tournament.run()\n",
    "print(f'Tournament winner: {winner.name}')\n",
    "print(f'Total hands played: {tournament.hands_played}')"
   ]
  },
  {
   "cell_type": "markdown",
   "id": "2be56ef8",
   "metadata": {},
   "source": [
    "Summary\n",
    "\n",
    "- You can run batch simulations, tournaments, and analyze AI learning.\n",
    "- Visualize stack trajectories, equity matchups, and more.\n",
    "- Next steps: try different strategies, tune AI learning, or export hand histories for deeper analysis!"
   ]
  }
 ],
 "metadata": {
  "language_info": {
   "name": "python"
  }
 },
 "nbformat": 4,
 "nbformat_minor": 5
}
